{
 "cells": [
  {
   "cell_type": "code",
   "execution_count": null,
   "metadata": {},
   "outputs": [],
   "source": [
    "# S1\n",
    "indexString: str = input('Enter a string: ')\n",
    "upperCount: int = len(\n",
    "    [_ for _ in indexString if _ in 'ABCDEFGHIJKLMNOPQRSTUVWXYZ'])\n",
    "lowerCount: int = len(\n",
    "    [_ for _ in indexString if _ in 'abcdefghijklmnopqrstuvwxyz'])\n",
    "indexString = indexString.lower() if lowerCount >= upperCount else indexString.upper()\n",
    "print(indexString)"
   ]
  },
  {
   "cell_type": "code",
   "execution_count": null,
   "metadata": {},
   "outputs": [],
   "source": [
    "# S2\n",
    "inputString = input('Enter a string: ').lower()\n",
    "CHARS = 'abcdefghijklmnopqrstuvwxyz'\n",
    "NUMS = '0123456789'\n",
    "resultDict = {\n",
    "    'NUMBER': all([(x not in CHARS) and (x in NUMS) for x in inputString]),\n",
    "    'WORD': all([(x in CHARS) and (x not in NUMS) for x in inputString]),\n",
    "    'MIXED': all([(x in CHARS) or (x in NUMS) for x in inputString]),\n",
    "}\n",
    "print([k for k in resultDict if resultDict[k]][0])"
   ]
  },
  {
   "cell_type": "code",
   "execution_count": null,
   "metadata": {},
   "outputs": [],
   "source": [
    "# S3\n",
    "indexString = input('Enter a string: ')\n",
    "indices = [i for i, x in enumerate(\n",
    "    indexString) if x in 'ABCDEFGHIJKLMNOPQRSTUVWXYZ']\n",
    "start, end = indices\n",
    "output = indexString[start+1:end]\n",
    "\n",
    "print(output if output else 'BLANK')"
   ]
  },
  {
   "cell_type": "code",
   "execution_count": null,
   "metadata": {},
   "outputs": [],
   "source": [
    "# S4\n",
    "str1 = input('Enter first string: ')\n",
    "str2 = input('Enter second string: ')\n",
    "mix = str1+str2\n",
    "output = ''.join([i for i in mix if (i in str1) and (i in str2)])\n",
    "print(output if output else 'Nothing in common')"
   ]
  },
  {
   "cell_type": "code",
   "execution_count": null,
   "metadata": {},
   "outputs": [],
   "source": [
    "# S5\n",
    "password = 'aezakmi123'\n",
    "error = ''\n",
    "if not [i for i in password if i in 'ABCDEFGHIJKLMNOPQRSTUVWXYZ']:\n",
    "    error += 'Uppercase character missing, '\n",
    "if not [i for i in password if i in 'abcdefghijklmnopqrstuvwxyz']:\n",
    "    error += 'Lowercase character missing, '\n",
    "if not [i for i in password if i in '0123456789']:\n",
    "    error += 'Digit Missing, '\n",
    "if not [i for i in password if i in '_$#@']:\n",
    "    error += 'Special character missing, '\n",
    "\n",
    "print(error[:-2]+'.' if error else 'OK')"
   ]
  },
  {
   "cell_type": "code",
   "execution_count": null,
   "metadata": {},
   "outputs": [],
   "source": [
    "# L1\n",
    "inputs = {}\n",
    "while True:\n",
    "    var = input()\n",
    "    if var == 'STOP':\n",
    "        break\n",
    "    if var in inputs:\n",
    "        inputs[var] += 1\n",
    "    else:\n",
    "        inputs[var] = 1\n",
    "if inputs:\n",
    "    for k, v in inputs.items():\n",
    "        print(f\"{k} - {v} times\")"
   ]
  },
  {
   "cell_type": "code",
   "execution_count": null,
   "metadata": {},
   "outputs": [],
   "source": [
    "# L2\n",
    "no_of_lists = int(input(\"enter the number of lists to check: \"))\n",
    "outputList = []\n",
    "for i in range(no_of_lists):\n",
    "    inputlist = [int(x) for x in input().split()]\n",
    "    if sum(inputlist) > sum(outputList):\n",
    "        outputList = inputlist\n",
    "print(sum(outputList))\n",
    "print(outputList)"
   ]
  },
  {
   "cell_type": "code",
   "execution_count": null,
   "metadata": {},
   "outputs": [],
   "source": [
    "# L3\n",
    "list1 = [2, 3, 6]\n",
    "list2 = [3, 4, 5]\n",
    "output = []\n",
    "for i in list1:\n",
    "    for j in list2:\n",
    "        output.append(i*j)\n",
    "print(output)"
   ]
  },
  {
   "cell_type": "code",
   "execution_count": null,
   "metadata": {},
   "outputs": [],
   "source": [
    "# L4\n",
    "while True:\n",
    "    var = input()\n",
    "    if var == 'STOP':\n",
    "        break\n",
    "    nums = [int(x) for x in var.split()]\n",
    "    n = len(nums)\n",
    "    diffs = [nums[i]-nums[i+1] if (nums[i] > nums[i+1])\n",
    "             else (nums[i+1]-nums[i]) for i in range(n-1)]\n",
    "    print('UB Jumper' if sum(diffs) == n*(n-1)//2 else 'Not UB Jumper')"
   ]
  },
  {
   "cell_type": "code",
   "execution_count": null,
   "metadata": {},
   "outputs": [],
   "source": [
    "# L5\n",
    "n, k = map(int, input('Enter n and k: ').split())\n",
    "participation_counts = list(\n",
    "    map(int, input('Input participant infos: ').split()))\n",
    "\n",
    "eligible_students = sum(\n",
    "    [1 for count in participation_counts if count <= (5 - k)])\n",
    "max_teams = eligible_students // 3\n",
    "print(max_teams)"
   ]
  },
  {
   "cell_type": "code",
   "execution_count": null,
   "metadata": {},
   "outputs": [],
   "source": [
    "# D1\n",
    "dict1 = {}\n",
    "dict2 = {}\n",
    "\n",
    "pairs = input('Enter first dictionary: ').split(',')\n",
    "for pair in pairs:\n",
    "    key, value = pair.split(':')\n",
    "    dict1[key.strip()] = int(value.strip())\n",
    "\n",
    "pairs = input('Enter second dictionary: ').split(',')\n",
    "for pair in pairs:\n",
    "    key, value = pair.split(':')\n",
    "    dict2[key.strip()] = int(value.strip())\n",
    "\n",
    "all_keys = sorted(set(dict1.keys()) | set(dict2.keys()))\n",
    "\n",
    "dict3 = {key: dict1.get(key, 0) + dict2.get(key, 0) for key in all_keys}\n",
    "all_values = tuple(sorted(set(dict3.values())))\n",
    "\n",
    "print(dict3)\n",
    "print(f\"Values: {all_values}\")"
   ]
  },
  {
   "cell_type": "code",
   "execution_count": null,
   "metadata": {},
   "outputs": [],
   "source": [
    "# D2\n",
    "inputs = {}\n",
    "while True:\n",
    "    var = input()\n",
    "    if var == 'STOP':\n",
    "        break\n",
    "    if var in inputs:\n",
    "        inputs[var] += 1\n",
    "    else:\n",
    "        inputs[var] = 1\n",
    "if inputs:\n",
    "    for k, v in inputs.items():\n",
    "        print(f\"{k} - {v} times\")"
   ]
  },
  {
   "cell_type": "code",
   "execution_count": null,
   "metadata": {},
   "outputs": [],
   "source": [
    "# D3\n",
    "pairs = input('Enter dictionary: ').split(',')\n",
    "outputDict = {}\n",
    "for pair in pairs:\n",
    "    key, value = pair.split(':')\n",
    "    if value.strip() in outputDict:\n",
    "        outputDict[value.strip()].append(key.strip())\n",
    "    else:\n",
    "        outputDict[value.strip()] = [key.strip()]\n",
    "print(outputDict)"
   ]
  },
  {
   "cell_type": "code",
   "execution_count": null,
   "metadata": {},
   "outputs": [],
   "source": [
    "# D4\n",
    "key_symbols = {\n",
    "    '.': '1', ',': '11', '?': '111', '!': '1111', ':': '11111',\n",
    "    'A': '2', 'B': '22', 'C': '222',\n",
    "    'D': '3', 'E': '33', 'F': '333',\n",
    "    'G': '4', 'H': '44', 'I': '444',\n",
    "    'J': '5', 'K': '55', 'L': '555',\n",
    "    'M': '6', 'N': '66', 'O': '666',\n",
    "    'P': '7', 'Q': '77', 'R': '777', 'S': '7777',\n",
    "    'T': '8', 'U': '88', 'V': '888',\n",
    "    'W': '9', 'X': '99', 'Y': '999', 'Z': '9999',\n",
    "    ' ': '0'\n",
    "}\n",
    "\n",
    "inputString = input('Enter a string: ').upper()\n",
    "output = ''.join([key_symbols[char] for char in inputString])\n",
    "\n",
    "print(output)"
   ]
  }
 ],
 "metadata": {
  "kernelspec": {
   "display_name": "base",
   "language": "python",
   "name": "python3"
  },
  "language_info": {
   "codemirror_mode": {
    "name": "ipython",
    "version": 3
   },
   "file_extension": ".py",
   "mimetype": "text/x-python",
   "name": "python",
   "nbconvert_exporter": "python",
   "pygments_lexer": "ipython3",
   "version": "3.9.2"
  },
  "orig_nbformat": 4
 },
 "nbformat": 4,
 "nbformat_minor": 2
}
