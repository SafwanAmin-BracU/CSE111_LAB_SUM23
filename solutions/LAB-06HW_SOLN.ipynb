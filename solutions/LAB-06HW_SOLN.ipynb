{
 "cells": [
  {
   "cell_type": "markdown",
   "metadata": {},
   "source": [
    "## TASK 01"
   ]
  },
  {
   "cell_type": "markdown",
   "metadata": {},
   "source": [
    "### Movie Theater Management System\n",
    "\n",
    "There is a growing excitement in movie theaters these days, with many people flocking to watch a variety of movies, including titles like \"Barbie,\" \"Oppenheimer,\" and various Bengali films. To cater to this demand, Star Cinema, a popular movie theater, is expanding its reach by opening new branches. Each branch will showcase a collection of movies to entertain the audience. To implement this, we'll design two classes: `StarCinema` and `Movie`, utilizing a HAS-A relationship through the concept of class/static variables and class methods.\n",
    "\n",
    "#### Movie Class\n",
    "\n",
    "##### Instance Variables\n",
    "\n",
    "- `name`: string - Name of the movie.\n",
    "- `genre`: string - Genre of the movie.\n",
    "- `duration`: int - Duration of the movie in minutes.\n",
    "\n",
    "##### Instance Methods\n",
    "\n",
    "- `movieInfo()`: Returns a formatted string containing the name, genre, and duration of the movie.\n",
    "\n",
    "##### Class Methods\n",
    "\n",
    "- `createMovie_fromString(string)`: Creates a new `Movie` object using a string containing name, genre, and duration separated by hyphens ('-').\n",
    "\n",
    "#### StarCinema Class\n",
    "\n",
    "##### Instance Variables\n",
    "\n",
    "- `branch_name`: string - Name of the StarCinema branch.\n",
    "- `movie_list`: list - List of `Movie` objects added to the branch.\n",
    "\n",
    "##### Class Variables\n",
    "\n",
    "- `all_branch_info`: dictionary - Stores branch names of Star Cinema branches as keys and lists of `Movie` objects for each branch as values.\n",
    "\n",
    "##### Instance Methods\n",
    "\n",
    "- `addMovies(*movie_objects)`: Adds multiple `Movie` objects to the `movie_list` and updates the `all_branch_info` dictionary.\n",
    "\n",
    "- `removeMovie(Movie_Object)`: Removes a specified `Movie` object from the `movie_list` and updates the `all_branch_info` accordingly.\n",
    "\n",
    "##### Class Methods\n",
    "\n",
    "- `check(string)`: Displays information about a movie, including the branches where it is streaming, its duration, and genre. If the movie is not streaming in any branch, it shows a message stating that the movie is not being streamed.\n",
    "\n",
    "- `showAllBranchInfo()`: Prints information about all branches and their respective movies using the data from the `all_branch_info` variable. The output includes branch names, movie numbers, names, genres, and durations. The `movieInfo()` method from the `Movie` class is used to display movie details.\n"
   ]
  },
  {
   "cell_type": "code",
   "execution_count": 1,
   "metadata": {},
   "outputs": [],
   "source": [
    "class Movie:\n",
    "    # CONSTRUCTOR:\n",
    "    def __init__(self, x_name:str, x_genre:str, x_duration:int) -> None:\n",
    "        self.name:str = x_name\n",
    "        self.genre:str = x_genre\n",
    "        self.duration:int = x_duration\n",
    "\n",
    "    # METHODS:\n",
    "    def movieInfo(self) -> str:\n",
    "        return f\"Movie Name: {self.name}\\nMovie Genre: {self.genre}\\nMovie Duration: {self.duration} minutes.\"\n",
    "    \n",
    "    # CLASS METHODS:\n",
    "    @classmethod\n",
    "    def createMovie_fromString(cls, movie_str:str):\n",
    "        movie_info = movie_str.split(\"-\")\n",
    "        return cls(movie_info[0], movie_info[1], int(movie_info[2]))\n",
    "    \n",
    "    # DUNDERS:\n",
    "    def __str__(self) -> str:\n",
    "        return self.name\n"
   ]
  },
  {
   "cell_type": "code",
   "execution_count": 2,
   "metadata": {},
   "outputs": [],
   "source": [
    "class StarCinema:\n",
    "    # CLASS VARIABLES:\n",
    "    all_branch_info:dict = {}\n",
    "\n",
    "    # CONSTRUCTOR:\n",
    "    def __init__(self, x_branch_name:str) -> None:\n",
    "        self.branch_name:str = x_branch_name\n",
    "        self.movie_list:list[Movie] = []\n",
    "        StarCinema.all_branch_info[self.branch_name] = []\n",
    "        print(f\"Welcome to the {x_branch_name} branch of StarCinema! \")\n",
    "\n",
    "    # METHODS:\n",
    "    def addMovies(self, *movies) -> None:\n",
    "        for movie in movies:\n",
    "            if movie not in self.movie_list:\n",
    "                self.movie_list.append(movie)\n",
    "                StarCinema.all_branch_info[self.branch_name].append(movie)\n",
    "                print(f\"{movie.name} added to the {self.branch_name} branch.\")\n",
    "            else:\n",
    "                print(f\"Movie is already added in this branch.\")\n",
    "\n",
    "    def removeMovie(self, movie:Movie) -> None:\n",
    "        if movie in self.movie_list:\n",
    "            self.movie_list.remove(movie)\n",
    "            StarCinema.all_branch_info[self.branch_name].remove(movie)\n",
    "    \n",
    "    # CLASS METHODS:\n",
    "    @classmethod\n",
    "    def check(cls, x_movie_name:str) -> None:\n",
    "        available = False\n",
    "        for branch in cls.all_branch_info:\n",
    "            for movie in cls.all_branch_info[branch]:\n",
    "                if movie.name == x_movie_name:\n",
    "                    print(f\"{movie.name} is being streamed in {branch} branch.\")\n",
    "                    available = True\n",
    "                    genre = movie.genre\n",
    "                    duration = movie.duration\n",
    "        if available:\n",
    "            print(f\"It is of {genre} genre and {duration} minutes duration.\")\n",
    "\n",
    "        else:\n",
    "            print(f\"{x_movie_name} is not being streamed in any branch.\")\n",
    "\n",
    "                    \n",
    "\n",
    "    @classmethod\n",
    "    def showAllBranchInfo(cls) -> None:\n",
    "        for branch in cls.all_branch_info:\n",
    "            count = 0\n",
    "            print(f\"Branch Name: {branch}\")\n",
    "            for movie in cls.all_branch_info[branch]:\n",
    "                count += 1\n",
    "                print(f\"Movie No: {count}\")\n",
    "                print(movie.movieInfo())\n",
    "                print('**************************')\n",
    "            print('#################################')\n",
    "            "
   ]
  },
  {
   "cell_type": "markdown",
   "metadata": {},
   "source": [
    "### DRIVER CODE:"
   ]
  },
  {
   "cell_type": "code",
   "execution_count": 3,
   "metadata": {},
   "outputs": [],
   "source": [
    "movie1 = Movie('Oppenheimer', 'Biographical Drama', 180)\n",
    "movie2 = Movie('Barbie', 'Fantasy Comedy', 114)\n",
    "movie3 = Movie('Mission: Impossible – Dead Reckoning Part One', 'Action', 163)"
   ]
  },
  {
   "cell_type": "code",
   "execution_count": 4,
   "metadata": {},
   "outputs": [
    {
     "name": "stdout",
     "output_type": "stream",
     "text": [
      "1==========================================\n",
      "Movie Name: Mission: Impossible – Dead Reckoning Part One\n",
      "Movie Genre: Action\n",
      "Movie Duration: 163 minutes.\n"
     ]
    }
   ],
   "source": [
    "print('1==========================================')\n",
    "print(movie3.movieInfo())\n",
    "# 1========================================== \n",
    "# Movie Name:Mission: Impossible – Dead Reckoning Part One \n",
    "# Movie Genre:Action \n",
    "# Movie Duration:163 minutes. "
   ]
  },
  {
   "cell_type": "code",
   "execution_count": 5,
   "metadata": {},
   "outputs": [
    {
     "name": "stdout",
     "output_type": "stream",
     "text": [
      "2==========================================\n"
     ]
    }
   ],
   "source": [
    "print('2==========================================')\n",
    "movie4 = Movie.createMovie_fromString('Prohelika-Drama-153')\n"
   ]
  },
  {
   "cell_type": "code",
   "execution_count": 6,
   "metadata": {},
   "outputs": [
    {
     "name": "stdout",
     "output_type": "stream",
     "text": [
      "3==========================================\n",
      "Movie Name: Prohelika\n",
      "Movie Genre: Drama\n",
      "Movie Duration: 153 minutes.\n"
     ]
    }
   ],
   "source": [
    "print('3==========================================')\n",
    "print(movie4.movieInfo())\n",
    "\n",
    "# 3==========================================\n",
    "# Movie Name:Prohelika \n",
    "# Movie Genre:Drama \n",
    "# Movie Duration:153 minutes."
   ]
  },
  {
   "cell_type": "code",
   "execution_count": 7,
   "metadata": {},
   "outputs": [
    {
     "name": "stdout",
     "output_type": "stream",
     "text": [
      "4==========================================\n",
      "Welcome to the Mohakhali branch of StarCinema! \n"
     ]
    }
   ],
   "source": [
    "print('4==========================================')\n",
    "branch1 = StarCinema('Mohakhali')\n",
    "# 4==========================================\n",
    "# Welcome to the Mohakhali branch of StarCinema! "
   ]
  },
  {
   "cell_type": "code",
   "execution_count": 8,
   "metadata": {},
   "outputs": [
    {
     "name": "stdout",
     "output_type": "stream",
     "text": [
      "5==========================================\n",
      "Oppenheimer added to the Mohakhali branch.\n",
      "Barbie added to the Mohakhali branch.\n",
      "Prohelika added to the Mohakhali branch.\n"
     ]
    }
   ],
   "source": [
    "print('5==========================================')\n",
    "branch1.addMovies(movie1, movie2, movie4)\n",
    "# 5==========================================\n",
    "# Oppenheimer added to Mohakhali branch. \n",
    "# Barbie added to Mohakhali branch. \n",
    "# Prohelika added to Mohakhali branch. \n"
   ]
  },
  {
   "cell_type": "code",
   "execution_count": 9,
   "metadata": {},
   "outputs": [
    {
     "name": "stdout",
     "output_type": "stream",
     "text": [
      "6==========================================\n",
      "Movie is already added in this branch.\n",
      "Mission: Impossible – Dead Reckoning Part One added to the Mohakhali branch.\n"
     ]
    }
   ],
   "source": [
    "print('6==========================================')\n",
    "branch1.addMovies(movie1, movie3)\n",
    "\n",
    "# 6==========================================\n",
    "# Movie is already added in this branch. \n",
    "# Mission: Impossible – Dead Reckoning Part One added to Mohakhali branch. "
   ]
  },
  {
   "cell_type": "code",
   "execution_count": 10,
   "metadata": {},
   "outputs": [
    {
     "name": "stdout",
     "output_type": "stream",
     "text": [
      "7==========================================\n",
      "Branch Name: Mohakhali\n",
      "Movie No: 1\n",
      "Movie Name: Oppenheimer\n",
      "Movie Genre: Biographical Drama\n",
      "Movie Duration: 180 minutes.\n",
      "**************************\n",
      "Movie No: 2\n",
      "Movie Name: Barbie\n",
      "Movie Genre: Fantasy Comedy\n",
      "Movie Duration: 114 minutes.\n",
      "**************************\n",
      "Movie No: 3\n",
      "Movie Name: Prohelika\n",
      "Movie Genre: Drama\n",
      "Movie Duration: 153 minutes.\n",
      "**************************\n",
      "Movie No: 4\n",
      "Movie Name: Mission: Impossible – Dead Reckoning Part One\n",
      "Movie Genre: Action\n",
      "Movie Duration: 163 minutes.\n",
      "**************************\n",
      "#################################\n"
     ]
    }
   ],
   "source": [
    "print('7==========================================')\n",
    "StarCinema.showAllBranchInfo()\n",
    "\n",
    "# 7==========================================\n",
    "# Branch Name:Mohakhali \n",
    "# Movie No: 1 \n",
    "# Movie Name:Oppenheimer \n",
    "# Movie Genre:Biographical Drama \n",
    "# Movie Duration:180 minutes.\n",
    "#  ************************** \n",
    "# Movie No: 2 \n",
    "# Movie Name:Barbie \n",
    "# Movie Genre:Fantasy Comedy \n",
    "# Movie Duration:114 minutes.\n",
    "#  ************************** \n",
    "# Movie No: 3 \n",
    "# Movie Name:Prohelika \n",
    "# Movie Genre:Drama \n",
    "# Movie Duration:153 minutes. \n",
    "# ************************** \n",
    "# Movie No: 4 \n",
    "# Movie Name:Mission: Impossible – Dead Reckoning Part One \n",
    "# Movie Genre:Action \n",
    "# Movie Duration:163 minutes. \n",
    "# **************************\n",
    "# #################################\n"
   ]
  },
  {
   "cell_type": "code",
   "execution_count": 11,
   "metadata": {},
   "outputs": [
    {
     "name": "stdout",
     "output_type": "stream",
     "text": [
      "8==========================================\n",
      "Welcome to the Mirpur branch of StarCinema! \n"
     ]
    }
   ],
   "source": [
    "print('8==========================================')\n",
    "branch2 = StarCinema('Mirpur')\n",
    "\n",
    "# 8========================================== \n",
    "# Welcome to the Mirpur branch of StarCinema! "
   ]
  },
  {
   "cell_type": "code",
   "execution_count": 12,
   "metadata": {},
   "outputs": [
    {
     "name": "stdout",
     "output_type": "stream",
     "text": [
      "9==========================================\n",
      "Oppenheimer added to the Mirpur branch.\n",
      "Barbie added to the Mirpur branch.\n",
      "Mission: Impossible – Dead Reckoning Part One added to the Mirpur branch.\n"
     ]
    }
   ],
   "source": [
    "print('9==========================================')\n",
    "branch2.addMovies(movie1, movie2, movie3)\n",
    "\n",
    "# 9========================================== \n",
    "# Oppenheimer added to Mirpur branch. \n",
    "# Barbie added to Mirpur branch. \n",
    "# Mission: Impossible – Dead Reckoning Part One added to Mirpur branch. \n"
   ]
  },
  {
   "cell_type": "code",
   "execution_count": 13,
   "metadata": {},
   "outputs": [
    {
     "name": "stdout",
     "output_type": "stream",
     "text": [
      "10==========================================\n",
      "Branch Name: Mohakhali\n",
      "Movie No: 1\n",
      "Movie Name: Oppenheimer\n",
      "Movie Genre: Biographical Drama\n",
      "Movie Duration: 180 minutes.\n",
      "**************************\n",
      "Movie No: 2\n",
      "Movie Name: Barbie\n",
      "Movie Genre: Fantasy Comedy\n",
      "Movie Duration: 114 minutes.\n",
      "**************************\n",
      "Movie No: 3\n",
      "Movie Name: Prohelika\n",
      "Movie Genre: Drama\n",
      "Movie Duration: 153 minutes.\n",
      "**************************\n",
      "Movie No: 4\n",
      "Movie Name: Mission: Impossible – Dead Reckoning Part One\n",
      "Movie Genre: Action\n",
      "Movie Duration: 163 minutes.\n",
      "**************************\n",
      "#################################\n",
      "Branch Name: Mirpur\n",
      "Movie No: 1\n",
      "Movie Name: Oppenheimer\n",
      "Movie Genre: Biographical Drama\n",
      "Movie Duration: 180 minutes.\n",
      "**************************\n",
      "Movie No: 2\n",
      "Movie Name: Barbie\n",
      "Movie Genre: Fantasy Comedy\n",
      "Movie Duration: 114 minutes.\n",
      "**************************\n",
      "Movie No: 3\n",
      "Movie Name: Mission: Impossible – Dead Reckoning Part One\n",
      "Movie Genre: Action\n",
      "Movie Duration: 163 minutes.\n",
      "**************************\n",
      "#################################\n"
     ]
    }
   ],
   "source": [
    "print('10==========================================')\n",
    "StarCinema.showAllBranchInfo()\n",
    "\n",
    "# 10========================================= \n",
    "# Branch Name:Mohakhali \n",
    "# Movie No: 1 \n",
    "# Movie Name:Oppenheimer \n",
    "# Movie Genre:Biographical Drama \n",
    "# Movie Duration:180 minutes.\n",
    "#  ************************** \n",
    "# Movie No: 2 \n",
    "# Movie Name:Barbie \n",
    "# Movie Genre:Fantasy Comedy \n",
    "# Movie Duration:114 minutes. \n",
    "# ************************** \n",
    "# Movie No: 3 \n",
    "# Movie Name:Prohelika \n",
    "# Movie Genre:Drama \n",
    "# Movie Duration:153 minutes. \n",
    "# ************************** \n",
    "# Movie No: 4 \n",
    "# Movie Name:Mission: Impossible – Dead Reckoning Part One \n",
    "# Movie Genre:Action \n",
    "# Movie Duration:163 minutes. \n",
    "# **************************\n",
    "# ################################# \n",
    "# Branch Name:Mirpur \n",
    "# Movie No: 1 \n",
    "# Movie Name:Oppenheimer \n",
    "# Movie Genre:Biographical Drama \n",
    "# Movie Duration:180 minutes.\n",
    "# ************************** \n",
    "# Movie No: 2 \n",
    "# Movie Name:Barbie \n",
    "# Movie Genre:Fantasy Comedy \n",
    "# Movie Duration:114 minutes. \n",
    "# ************************** \n",
    "# Movie No: 3 \n",
    "# Movie Name:Mission: Impossible – Dead Reckoning Part One \n",
    "# Movie Genre:Action \n",
    "# Movie Duration:163 minutes. \n",
    "# **************************\n",
    "# ################################# \n"
   ]
  },
  {
   "cell_type": "code",
   "execution_count": 14,
   "metadata": {},
   "outputs": [
    {
     "name": "stdout",
     "output_type": "stream",
     "text": [
      "11==========================================\n",
      "Oppenheimer is being streamed in Mohakhali branch.\n",
      "Oppenheimer is being streamed in Mirpur branch.\n",
      "It is of Biographical Drama genre and 180 minutes duration.\n"
     ]
    }
   ],
   "source": [
    "print('11==========================================')\n",
    "StarCinema.check('Oppenheimer')\n",
    "\n",
    "# 11=========================================\n",
    "# Oppenheimer is being streamed in Mohakhali branch. \n",
    "# Oppenheimer is being streamed in Mirpur branch. \n",
    "# It is of Biographical Drama genre and 180 minutes duration. "
   ]
  },
  {
   "cell_type": "code",
   "execution_count": 15,
   "metadata": {},
   "outputs": [
    {
     "name": "stdout",
     "output_type": "stream",
     "text": [
      "12=========================================\n",
      "Sound of Freedom is not being streamed in any branch.\n"
     ]
    }
   ],
   "source": [
    "print('12=========================================')\n",
    "StarCinema.check('Sound of Freedom')\n",
    "\n",
    "# 12========================================= \n",
    "# Sound of Freedom is not being streamed in any branch. \n"
   ]
  },
  {
   "cell_type": "code",
   "execution_count": 16,
   "metadata": {},
   "outputs": [
    {
     "name": "stdout",
     "output_type": "stream",
     "text": [
      "13=========================================\n",
      "Branch Name: Mohakhali\n",
      "Movie No: 1\n",
      "Movie Name: Oppenheimer\n",
      "Movie Genre: Biographical Drama\n",
      "Movie Duration: 180 minutes.\n",
      "**************************\n",
      "Movie No: 2\n",
      "Movie Name: Prohelika\n",
      "Movie Genre: Drama\n",
      "Movie Duration: 153 minutes.\n",
      "**************************\n",
      "Movie No: 3\n",
      "Movie Name: Mission: Impossible – Dead Reckoning Part One\n",
      "Movie Genre: Action\n",
      "Movie Duration: 163 minutes.\n",
      "**************************\n",
      "#################################\n",
      "Branch Name: Mirpur\n",
      "Movie No: 1\n",
      "Movie Name: Oppenheimer\n",
      "Movie Genre: Biographical Drama\n",
      "Movie Duration: 180 minutes.\n",
      "**************************\n",
      "Movie No: 2\n",
      "Movie Name: Barbie\n",
      "Movie Genre: Fantasy Comedy\n",
      "Movie Duration: 114 minutes.\n",
      "**************************\n",
      "Movie No: 3\n",
      "Movie Name: Mission: Impossible – Dead Reckoning Part One\n",
      "Movie Genre: Action\n",
      "Movie Duration: 163 minutes.\n",
      "**************************\n",
      "#################################\n"
     ]
    }
   ],
   "source": [
    "print('13=========================================')\n",
    "branch1.removeMovie(movie2)\n",
    "StarCinema.showAllBranchInfo()\n",
    "\n",
    "# Branch Name:Mohakhali \n",
    "# Movie No: 1 \n",
    "# Movie Name:Oppenheimer \n",
    "# Movie Genre:Biographical Drama \n",
    "# Movie Duration:180 minutes. \n",
    "# ************************** \n",
    "# Movie No: 2 \n",
    "# Movie Name:Prohelika \n",
    "# Movie Genre:Drama \n",
    "# Movie Duration:153 minutes. \n",
    "# ************************** \n",
    "# Movie No: 3 \n",
    "# Movie Name:Mission: Impossible – Dead Reckoning Part One \n",
    "# Movie Genre:Action \n",
    "# Movie Duration:163 minutes. \n",
    "# **************************\n",
    "# ################################# \n",
    "# Branch Name:Mirpur \n",
    "# Movie No: 1 \n",
    "# Movie Name:Oppenheimer \n",
    "# Movie Genre:Biographical Drama \n",
    "# Movie Duration:180 minutes. \n",
    "# ************************** \n",
    "# Movie No: 2 \n",
    "# Movie Name:Barbie \n",
    "# Movie Genre:Fantasy Comedy \n",
    "# Movie Duration:114 minutes. \n",
    "# ************************** \n",
    "# Movie No: 3 \n",
    "# Movie Name:Mission: Impossible – Dead Reckoning Part One \n",
    "# Movie Genre:Action \n",
    "# Movie Duration:163 minutes.\n",
    "# ************************** \n",
    "# ################################# \n",
    "\n"
   ]
  },
  {
   "cell_type": "code",
   "execution_count": 17,
   "metadata": {},
   "outputs": [
    {
     "name": "stdout",
     "output_type": "stream",
     "text": [
      "14=========================================\n",
      "Branch Name: Mohakhali\n",
      "Movie No: 1\n",
      "Movie Name: Oppenheimer\n",
      "Movie Genre: Biographical Drama\n",
      "Movie Duration: 180 minutes.\n",
      "**************************\n",
      "Movie No: 2\n",
      "Movie Name: Prohelika\n",
      "Movie Genre: Drama\n",
      "Movie Duration: 153 minutes.\n",
      "**************************\n",
      "Movie No: 3\n",
      "Movie Name: Mission: Impossible – Dead Reckoning Part One\n",
      "Movie Genre: Action\n",
      "Movie Duration: 163 minutes.\n",
      "**************************\n",
      "#################################\n",
      "Branch Name: Mirpur\n",
      "Movie No: 1\n",
      "Movie Name: Barbie\n",
      "Movie Genre: Fantasy Comedy\n",
      "Movie Duration: 114 minutes.\n",
      "**************************\n",
      "Movie No: 2\n",
      "Movie Name: Mission: Impossible – Dead Reckoning Part One\n",
      "Movie Genre: Action\n",
      "Movie Duration: 163 minutes.\n",
      "**************************\n",
      "#################################\n"
     ]
    }
   ],
   "source": [
    "print('14=========================================')\n",
    "branch2.removeMovie(movie1)\n",
    "StarCinema.showAllBranchInfo()\n",
    "\n",
    "# Branch Name:Mohakhali \n",
    "# Movie No: 1 \n",
    "# Movie Name:Oppenheimer \n",
    "# Movie Genre:Biographical Drama \n",
    "# Movie Duration:180 minutes. \n",
    "# ************************** \n",
    "# Movie No: 2 \n",
    "# Movie Name:Prohelika \n",
    "# Movie Genre:Drama \n",
    "# Movie Duration:153 minutes. \n",
    "# ************************** \n",
    "# Movie No: 3 \n",
    "# Movie Name:Mission: Impossible – Dead Reckoning Part One \n",
    "# Movie Genre:Action \n",
    "# Movie Duration:163 minutes. \n",
    "# **************************\n",
    "# ################################# \n",
    "# Branch Name:Mirpur \n",
    "# Movie No: 1 \n",
    "# Movie Name:Barbie \n",
    "# Movie Genre:Fantasy Comedy \n",
    "# Movie Duration:114 minutes. \n",
    "# ************************** \n",
    "# Movie No: 2 \n",
    "# Movie Name:Mission: Impossible – Dead Reckoning Part One \n",
    "# Movie Genre:Action \n",
    "# Movie Duration:163 minutes. \n",
    "# **************************\n",
    "# #################################\n"
   ]
  }
 ],
 "metadata": {
  "kernelspec": {
   "display_name": "Python 3",
   "language": "python",
   "name": "python3"
  },
  "language_info": {
   "codemirror_mode": {
    "name": "ipython",
    "version": 3
   },
   "file_extension": ".py",
   "mimetype": "text/x-python",
   "name": "python",
   "nbconvert_exporter": "python",
   "pygments_lexer": "ipython3",
   "version": "3.11.0"
  },
  "orig_nbformat": 4
 },
 "nbformat": 4,
 "nbformat_minor": 2
}
