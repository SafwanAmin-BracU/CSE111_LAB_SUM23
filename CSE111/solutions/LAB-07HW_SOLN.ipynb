{
 "cells": [
  {
   "cell_type": "markdown",
   "metadata": {},
   "source": [
    "# TASK 01"
   ]
  },
  {
   "cell_type": "markdown",
   "metadata": {},
   "source": [
    "Given below are four classes, which follow the Inheritance concept of OOP. The parent/base\n",
    "class here is the Employee class, from which two child classes have been derived, namely\n",
    "Programmer and HR. Again from the Programmer class, another class named InternProgrammer has been derived."
   ]
  },
  {
   "cell_type": "markdown",
   "metadata": {},
   "source": [
    "## MAIN CODE"
   ]
  },
  {
   "cell_type": "markdown",
   "metadata": {},
   "source": [
    "### CONSTANTS"
   ]
  },
  {
   "cell_type": "code",
   "execution_count": 1,
   "metadata": {},
   "outputs": [],
   "source": [
    "from datetime import datetime, date, timedelta\n",
    "from dateutil.relativedelta import relativedelta\n",
    "\n",
    "class CustomDateTime(datetime):\n",
    "    def __str__(self):\n",
    "        return self.strftime(\"%d-%m-%Y\")\n",
    "\n",
    "TODAY = date.today()"
   ]
  },
  {
   "cell_type": "markdown",
   "metadata": {},
   "source": [
    "### EMPLOYEE"
   ]
  },
  {
   "cell_type": "code",
   "execution_count": 2,
   "metadata": {},
   "outputs": [],
   "source": [
    "class Employee:\n",
    "    # CLASS ATTRIBUTES\n",
    "    employee_count: dict = {}\n",
    "\n",
    "    # CONSTRUCTOR\n",
    "    def __init__(self, name: str, joining_date: str, work_experience: int, weekly_work_hour: int = 40) -> None:\n",
    "        self.name: str = name\n",
    "        self.joining_date: CustomDateTime = CustomDateTime.strptime(joining_date, \"%Y-%m-%d\")\n",
    "        self.work_experience: int = work_experience\n",
    "        self.weekly_work_hour: int = weekly_work_hour\n",
    "        \n",
    "        className: str = self.__class__.__name__\n",
    "        Employee.employee_count[className] = Employee.employee_count.get(className, 0) + 1\n",
    "        \n",
    "        if not 40<=self.weekly_work_hour<=60:\n",
    "            self.weekly_work_hour = 40\n",
    "            print(f\"{self.name} cannot work for {weekly_work_hour} hours.\")\n",
    "    \n",
    "    # CLASS METHODS\n",
    "    @classmethod\n",
    "    def showDetails(cls) -> None:\n",
    "        print(f\"Company workforce:\\nTotal Employee/s: {cls.getTotalEmployees()}\", *[f\"Total {key} Employee/s: {val}\" for key, val in cls.employee_count.items()], sep='\\n')\n",
    "    @classmethod\n",
    "    def getTotalEmployees(cls) -> int:\n",
    "        return sum(cls.employee_count.values())\n",
    "    @classmethod\n",
    "    def createID(cls, obj:object)->str:\n",
    "        return f\"{obj.joining_date.strftime('%y%m%d')}-{sum(cls.employee_count.values())}\"\n",
    "        \n"
   ]
  },
  {
   "cell_type": "markdown",
   "metadata": {},
   "source": [
    "### PROGRAMMER"
   ]
  },
  {
   "cell_type": "code",
   "execution_count": 3,
   "metadata": {},
   "outputs": [],
   "source": [
    "class Programmer(Employee):\n",
    "    # CLASS ATTRIBUTES\n",
    "    designation_list: list = [\"Junior Software Engineer\",\n",
    "                              \"Software Engineer\", \"Senior Software Engineer\", \"Technical Lead\"]\n",
    "\n",
    "    # CONSTRUCTOR\n",
    "    def __init__(self, name: str, joining_date: str, work_experience: int, weekly_work_hour: int = 40) -> None:\n",
    "        super().__init__(name, joining_date, work_experience, weekly_work_hour)\n",
    "        self.designation:str = Programmer.calculateDesignation(work_experience)\n",
    "        self.id:str = self.createProgrammerID()\n",
    "        self.salary = self.calculateSalary()\n",
    "\n",
    "    # INSTANCE METHODS\n",
    "    def calculateSalary(self) -> int:\n",
    "        salary_dict:dict = {\n",
    "            \"Junior Software Engineer\": 30_000,\n",
    "            \"Software Engineer\": 45_000,\n",
    "            \"Senior Software Engineer\": 70_000,\n",
    "            \"Technical Lead\": 120_000,\n",
    "        }\n",
    "        return salary_dict[self.designation] * 1.15 ** relativedelta(TODAY, self.joining_date).years\n",
    "    \n",
    "    def createProgrammerID(self) -> str:\n",
    "        return f\"P-{super().createID(self)}\"\n",
    "    \n",
    "    def showProgrammerDetails(self) -> None:\n",
    "        print(f\"Programmer Employee:\\nName: {self.name}\\nID: {self.id}\\nJoining Date: {self.joining_date}\\nDesignation: {self.designation}\\nSalary: BDT {self.salary}\")\n",
    "    \n",
    "    def calculateOvertime(self) -> None:\n",
    "        over_time: int = 2000*(self.weekly_work_hour-40)\n",
    "        self.salary += over_time\n",
    "        printString: str = f\"{self.name} will get BDT {over_time} overtime.\" if over_time else f\"{self.name} will not get overtime.\"\n",
    "        print(printString)\n",
    "\n",
    "\n",
    "    # CLASS METHODS\n",
    "    @classmethod\n",
    "    def calculateDesignation(cls, x: int) -> str:\n",
    "        return (cls.designation_list[0] if x < 3 else\n",
    "                cls.designation_list[1] if x < 5 else\n",
    "                cls.designation_list[2] if x < 8 else\n",
    "                cls.designation_list[3])"
   ]
  },
  {
   "cell_type": "markdown",
   "metadata": {},
   "source": [
    "### HR"
   ]
  },
  {
   "cell_type": "code",
   "execution_count": 4,
   "metadata": {},
   "outputs": [],
   "source": [
    "class HR(Employee):\n",
    "    # CONSTRUCTOR\n",
    "    def __init__(self, name: str, joining_date: str, work_experience: int, weekly_work_hour: int = 40) -> None:\n",
    "        super().__init__(name, joining_date, work_experience, weekly_work_hour)\n",
    "        self.id:str = self.createHREmployeeID()\n",
    "\n",
    "    # INSTANCE METHODS\n",
    "    def showHREmployeeDetails(self) -> None:\n",
    "        print(f\"HR Employee:\\nName: {self.name}\\nID: {self.id}\\nJoining Date: {self.joining_date}\")\n",
    "\n",
    "    def createHREmployeeID(self) -> str:\n",
    "        return f\"H-{Employee.createID(self)}\"\n"
   ]
  },
  {
   "cell_type": "markdown",
   "metadata": {},
   "source": [
    "### INTERNPROGRAMMER"
   ]
  },
  {
   "cell_type": "code",
   "execution_count": 5,
   "metadata": {},
   "outputs": [],
   "source": [
    "class InternProgrammer:\n",
    "    # CLASS ATTRIBUTES\n",
    "    intern_count: int = 0\n",
    "\n",
    "    # CONSTRUCTOR\n",
    "    def __init__(self, name: str, joining_date: str, intern_type:str = 'Unpaid'):\n",
    "        InternProgrammer.intern_count += 1\n",
    "        self.name: str = name\n",
    "        self.joining_date: CustomDateTime = CustomDateTime.strptime(joining_date, \"%Y-%m-%d\")\n",
    "        self.work_experience: int = 0\n",
    "        self.weekly_work_hour: int = 40\n",
    "        self.temp_id:str = f'Temp_{InternProgrammer.intern_count}'\n",
    "        self.intern_type:str = intern_type\n",
    "        self.status:str = self.checkStatus()\n",
    "    # INSTANCE METHODS\n",
    "    def showInternDetails(self) -> None:\n",
    "        print(f\"Intern (Programmer):\\nName: {self.name}\\nID: {self.temp_id}\\nJoining Date: {self.joining_date}\\nType: {self.intern_type}\\nStatus: {self.status}\")\n",
    "\n",
    "    def promoteToProgrammer(self) -> Programmer | None:\n",
    "        if not self.status.startswith('Not'):\n",
    "            self.status = 'ACCEPTED'\n",
    "            print(f\"{self.name} is promoted.\")\n",
    "            return Programmer(self.name, TODAY.strftime(\"%Y-%m-%d\"), self.work_experience, self.weekly_work_hour)\n",
    "        else:\n",
    "            print(f\"{self.name} can not be promoted\")\n",
    "            return None\n",
    "\n",
    "    def checkStatus(self) -> str:\n",
    "        diff = relativedelta(TODAY, self.joining_date)\n",
    "        months_worked:int = diff.years*12 + diff.months\n",
    "        base_str:str = 'Eligible for promotion'\n",
    "        output_str:str = base_str if months_worked>=4 else f'Not {base_str}'\n",
    "        return output_str\n",
    "        "
   ]
  },
  {
   "cell_type": "markdown",
   "metadata": {},
   "source": [
    "## DRIVER CODE"
   ]
  },
  {
   "cell_type": "code",
   "execution_count": 6,
   "metadata": {},
   "outputs": [
    {
     "name": "stdout",
     "output_type": "stream",
     "text": [
      "Company workforce:\n",
      "Total Employee/s: 0\n",
      "=========1=========\n",
      "=========2=========\n",
      "Programmer Employee:\n",
      "Name: Richard Hendricks\n",
      "ID: P-210608-1\n",
      "Joining Date: 08-06-2021\n",
      "Designation: Software Engineer\n",
      "Salary: BDT 59512.49999999999\n",
      "=========3=========\n",
      "Richard Hendricks will get BDT 16000 overtime.\n",
      "=========4=========\n",
      "Programmer Employee:\n",
      "Name: Richard Hendricks\n",
      "ID: P-210608-1\n",
      "Joining Date: 08-06-2021\n",
      "Designation: Software Engineer\n",
      "Salary: BDT 75512.5\n",
      "=========5=========\n",
      "=========6=========\n",
      "HR Employee:\n",
      "Name: Monica Hall\n",
      "ID: H-220706-2\n",
      "Joining Date: 06-07-2022\n",
      "=========7=========\n",
      "Company workforce:\n",
      "Total Employee/s: 2\n",
      "Total Programmer Employee/s: 1\n",
      "Total HR Employee/s: 1\n",
      "=========8=========\n",
      "Bertram Gilfoyle cannot work for 35 hours.\n",
      "=========9=========\n",
      "Bertram Gilfoyle will not get overtime.\n",
      "=========10=========\n",
      "Programmer Employee:\n",
      "Name: Bertram Gilfoyle\n",
      "ID: P-200302-3\n",
      "Joining Date: 02-03-2020\n",
      "Designation: Senior Software Engineer\n",
      "Salary: BDT 106461.24999999999\n",
      "=========11=========\n",
      "Gavin Belson will not get overtime.\n",
      "Programmer Employee:\n",
      "Name: Gavin Belson\n",
      "ID: P-161220-4\n",
      "Joining Date: 20-12-2016\n",
      "Designation: Technical Lead\n",
      "Salary: BDT 277567.2918749999\n",
      "=========12=========\n",
      "Intern (Programmer):\n",
      "Name: Jian Yang\n",
      "ID: Temp_1\n",
      "Joining Date: 01-01-2023\n",
      "Type: Unpaid\n",
      "Status: Eligible for promotion\n",
      "=========13=========\n",
      "Intern (Programmer):\n",
      "Name: Jared Dunn\n",
      "ID: Temp_2\n",
      "Joining Date: 05-06-2023\n",
      "Type: Paid\n",
      "Status: Not Eligible for promotion\n",
      "=========14=========\n",
      "Jared Dunn can not be promoted\n",
      "=========15=========\n",
      "Company workforce:\n",
      "Total Employee/s: 4\n",
      "Total Programmer Employee/s: 3\n",
      "Total HR Employee/s: 1\n",
      "=========16=========\n",
      "Jian Yang is promoted.\n",
      "Programmer Employee:\n",
      "Name: Jian Yang\n",
      "ID: P-230823-5\n",
      "Joining Date: 23-08-2023\n",
      "Designation: Junior Software Engineer\n",
      "Salary: BDT 30000.0\n",
      "=========17=========\n",
      "Company workforce:\n",
      "Total Employee/s: 5\n",
      "Total Programmer Employee/s: 4\n",
      "Total HR Employee/s: 1\n"
     ]
    }
   ],
   "source": [
    "Employee.showDetails()\n",
    "print(\"=========1=========\")\n",
    "richard = Programmer(\"Richard Hendricks\", \"2021-06-08\", 4, 48)\n",
    "richard.calculateSalary()\n",
    "print(\"=========2=========\")\n",
    "richard.showProgrammerDetails()\n",
    "print(\"=========3=========\")\n",
    "richard.calculateOvertime()\n",
    "print(\"=========4=========\")\n",
    "richard.showProgrammerDetails()\n",
    "print(\"=========5=========\")\n",
    "monica = HR(\"Monica Hall\", \"2022-07-06\", 2, 40)\n",
    "print(\"=========6=========\")\n",
    "monica.showHREmployeeDetails()\n",
    "print(\"=========7=========\")\n",
    "Employee.showDetails()\n",
    "print(\"=========8=========\")\n",
    "gilfoyle = Programmer(\"Bertram Gilfoyle\", \"2020-03-02\", 6, 35)\n",
    "gilfoyle.calculateSalary()\n",
    "print(\"=========9=========\")\n",
    "gilfoyle.calculateOvertime()\n",
    "print(\"=========10=========\")\n",
    "gilfoyle.showProgrammerDetails()\n",
    "print(\"=========11=========\")\n",
    "gavin = Programmer(\"Gavin Belson\", \"2016-12-20\", 9)\n",
    "gavin.calculateSalary()\n",
    "gavin.calculateOvertime()\n",
    "gavin.showProgrammerDetails()\n",
    "print(\"=========12=========\")\n",
    "yang = InternProgrammer(\"Jian Yang\", \"2023-01-01\")\n",
    "yang.showInternDetails()\n",
    "print(\"=========13=========\")\n",
    "jared = InternProgrammer(\"Jared Dunn\", \"2023-06-05\", \"Paid\")\n",
    "jared.showInternDetails()\n",
    "print(\"=========14=========\")\n",
    "jared = jared.promoteToProgrammer()\n",
    "print(\"=========15=========\")\n",
    "Employee.showDetails()\n",
    "print(\"=========16=========\")\n",
    "yang = yang.promoteToProgrammer()\n",
    "yang.calculateSalary()\n",
    "yang.showProgrammerDetails()\n",
    "print(\"=========17=========\")\n",
    "Employee.showDetails()"
   ]
  }
 ],
 "metadata": {
  "kernelspec": {
   "display_name": "Python 3",
   "language": "python",
   "name": "python3"
  },
  "language_info": {
   "codemirror_mode": {
    "name": "ipython",
    "version": 3
   },
   "file_extension": ".py",
   "mimetype": "text/x-python",
   "name": "python",
   "nbconvert_exporter": "python",
   "pygments_lexer": "ipython3",
   "version": "3.11.4"
  },
  "orig_nbformat": 4
 },
 "nbformat": 4,
 "nbformat_minor": 2
}
