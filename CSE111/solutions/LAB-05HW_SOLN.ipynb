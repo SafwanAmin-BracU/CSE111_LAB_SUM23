{
 "cells": [
  {
   "cell_type": "markdown",
   "metadata": {},
   "source": [
    "# Library Management System Design\n",
    "\n",
    "You are tasked with designing a Library Management System following Object-Oriented Programming (OOP) principles. In the system, you will implement the concept of OOP, encapsulation, and how different classes can have \"HAS-A\" relationships between them.\n",
    "\n",
    "Read the description below to understand the classes and their methods and attributes.\n",
    "\n",
    "## Classes Attributes Methods\n",
    "\n",
    "### Book\n",
    "\n",
    "Attributes:\n",
    "\n",
    "- title (string)\n",
    "- author (string)\n",
    "- genre (string)\n",
    "- available (boolean)\n",
    "- borrower (None if no one borrowed the book; else object of LibraryMember)\n",
    "\n",
    "Methods:\n",
    "\n",
    "- `set_title(title)`\n",
    "- `get_title()`\n",
    "- `set_author(author)`\n",
    "- `get_author()`\n",
    "- `set_genre(genre)`\n",
    "- `get_genre()`\n",
    "- `set_availability(available)`\n",
    "- `get_availability()`\n",
    "- `set_borrower()`\n",
    "- `get_borrower()`\n",
    "- `display_info()`\n",
    "\n",
    "### LibraryMember\n",
    "\n",
    "Attributes:\n",
    "\n",
    "- member_id (string)\n",
    "- name (string)\n",
    "- borrowed_books (list of Book objects)\n",
    "\n",
    "Methods:\n",
    "\n",
    "- `set_member_id(member_id)`\n",
    "- `get_member_id()`\n",
    "- `set_name(name)`\n",
    "- `get_name()`\n",
    "- `borrow_book(book)`\n",
    "- `return_book(book)`\n",
    "- `display_borrowed_books()`\n",
    "\n",
    "### Library\n",
    "\n",
    "Attributes:\n",
    "\n",
    "- books_available (list of Book objects)\n",
    "- library_members (list of LibraryMember objects)\n",
    "\n",
    "Methods:\n",
    "\n",
    "- `add_book(book)`\n",
    "- `add_library_member(member)`\n",
    "- `display_book_list()`\n",
    "- `display_library_members()`\n",
    "\n",
    "## Scenario Explanation:\n",
    "\n",
    "In this scenario, we have three main classes: Book, LibraryMember, and Library. Let's see how encapsulation and \"HAS-A\" relationship are demonstrated:\n",
    "\n",
    "1. Encapsulation:\n",
    "   - The attributes of each class are kept private and accessed through getter and setter methods. For example, the Book class has a method named `set_availability()` to control the availability status of a book instead of directly accessing its \"available\" attribute.\n",
    "\n",
    "<!-- Line Break -->\n",
    "\n",
    "2. \"HAS-A\" Relationship:\n",
    "   - The Library class has two attributes, `books_available` and `library_members`, which are lists containing objects of the Book and LibraryMember classes, respectively. This demonstrates the \"HAS-A\" relationship between Library, Book, and LibraryMember classes.\n",
    "   - Additionally, the LibraryMember class has an attribute `borrowed_books`, which is a list containing Book objects. This shows that each LibraryMember \"HAS\" multiple Book objects that they have borrowed.\n",
    "\n",
    "## Method Description:\n",
    "\n",
    "- Setter methods(value): Setter methods update the value of the corresponding private attribute.\n",
    "- Getter methods(): Getter methods return the corresponding private attribute values.\n",
    "\n",
    "### Class Book:\n",
    "\n",
    "- `display_info()`: This method shows the information about a Book object such as - the book title, author, genre, and availability status.\n",
    "\n",
    "### Class LibraryMember:\n",
    "\n",
    "- `borrow_book(book)`: This method takes a book object as an argument and adds it to the borrowed books list of a library member. It makes the book unavailable to other members and adds the library member borrowing the book to the borrower variable of the book object.\n",
    "- `return_book(book)`: This method takes a book object as an argument and withdraws it from the borrowed books list. It makes the book available for other members and sets the borrower variable of the book object to None.\n",
    "- `display_borrowed_books()`: This method shows the books which are borrowed by a library member.\n",
    "\n",
    "### Class Library:\n",
    "\n",
    "- `add_book(book)`: This method adds a book object given as an argument under the available library books.\n",
    "- `add_library_member(member)`: This method adds a library member object to the library members list.\n",
    "- `display_book_list()`: This method shows the list of books in the library.\n",
    "- `display_library_members()`: This method shows the available library members.\n",
    "\n",
    "This system is a simple Library Management System with classes that showcase encapsulation and \"HAS-A\" relationship between classes. The classes work together to allow library members to borrow and return books, and the Library class manages the collection of books and library members.\n"
   ]
  },
  {
   "cell_type": "markdown",
   "metadata": {},
   "source": [
    "## MAIN CODE\n"
   ]
  },
  {
   "cell_type": "code",
   "execution_count": 1,
   "metadata": {},
   "outputs": [],
   "source": [
    "class Book:\n",
    "    # CONSTRUCTOR:\n",
    "    def __init__(self, x_title: str, x_author: str, x_genre: str) -> None:\n",
    "        self.__title: str = x_title\n",
    "        self.__author: str = x_author\n",
    "        self.__genre: str = x_genre\n",
    "        self.__available: bool = True\n",
    "        self.__borrower = None\n",
    "\n",
    "    # GETTERS:\n",
    "    def get_title(self): return self.__title\n",
    "    def get_author(self): return self.__author\n",
    "    def get_genre(self): return self.__genre\n",
    "    def get_availability(self): return self.__available\n",
    "    def get_borrower(self): return self.__borrower\n",
    "\n",
    "    # SETTERS:\n",
    "    def set_title(self, n_title: str) -> None:\n",
    "        self.__title = n_title\n",
    "\n",
    "    def set_author(self, n_author: str) -> None:\n",
    "        self.__author = n_author\n",
    "\n",
    "    def set_genre(self, n_genre: str) -> None:\n",
    "        self.__genre = n_genre\n",
    "\n",
    "    def set_availability(self) -> None:\n",
    "        self.__available = not self.__available\n",
    "\n",
    "    def set_borrower(self, n_borrower=None) -> None:\n",
    "        self.__borrower = n_borrower\n",
    "\n",
    "    # METHODS:\n",
    "    def display_info(self) -> None:\n",
    "        print(\n",
    "            f\"Books borrowed by {self.__borrower}\\nTitle: {self.__title}\\nAuthor: {self.__author}\\nGenre: {self.__genre}\\nAvailable: {self.__available}.\")\n",
    "\n",
    "    # DUNDERS:\n",
    "    def __str__(self) -> str:\n",
    "        return f\"Title: {self.__title}\\nAuthor: {self.__author}\\nGenre: {self.__genre}\\nAvailable: {self.__available}\"\n",
    "\n",
    "\n",
    "class LibraryMember:\n",
    "    # CONSTRUCTOR:\n",
    "    def __init__(self, x_member_id: str, x_name: str) -> None:\n",
    "        self.__member_id = x_member_id\n",
    "        self.__name = x_name\n",
    "        self.__borrowed_books: list[Book] = []\n",
    "\n",
    "    # GETTERS:\n",
    "    def get_member_id(self): return self.__member_id\n",
    "    def get_name(self): return self.__name\n",
    "    def get_borrowed_books(self): return self.__borrowed_books\n",
    "\n",
    "    # SETTERS:\n",
    "\n",
    "    def set_member_id(self, n_member_id: str) -> None:\n",
    "        self.__member_id = n_member_id\n",
    "\n",
    "    def set_name(self, n_name: str) -> None:\n",
    "        self.__name = n_name\n",
    "\n",
    "    def set_borrowed_books(self, n_borrowed_books: list[Book]) -> None:\n",
    "        self.__borrowed_books = n_borrowed_books\n",
    "\n",
    "    # METHODS:\n",
    "    def borrow_book(self, book: Book) -> None:\n",
    "        if book.get_availability():\n",
    "            self.__borrowed_books.append(book)\n",
    "            book.set_borrower(self)\n",
    "            book.set_availability()\n",
    "        else:\n",
    "            print(f\"{book.get_borrower()} has this book. You can't borrow it!\")\n",
    "\n",
    "    def return_book(self, book: Book) -> None:\n",
    "        if book in self.__borrowed_books:\n",
    "            self.__borrowed_books.remove(book)\n",
    "            book.set_borrower()\n",
    "            book.set_availability()\n",
    "        else:\n",
    "            print(\"You do know that you don't have this book, right?\")\n",
    "\n",
    "    def display_borrowed_books(self) -> None:\n",
    "        borrowed_books = self.__borrowed_books\n",
    "        if borrowed_books:\n",
    "            print(\"Borrowed Books:\")\n",
    "            for book in borrowed_books:\n",
    "                print(f'---------------\\n{book}')\n",
    "        else:\n",
    "            print(\"All this code just to tell you that you have no books.\")\n",
    "    # DUNDERS:\n",
    "    def __repr__(self) -> str:\n",
    "        return f'{self.__name}'\n",
    "\n",
    "\n",
    "class Library:\n",
    "    # CONSTRUCTOR:\n",
    "    def __init__(self) -> None:\n",
    "        self.__books_available: list[Book] = []\n",
    "        self.__library_members: list[LibraryMember] = []\n",
    "\n",
    "    # GETTERS:\n",
    "    def get_books_available(self): return self.__books_available\n",
    "    def get_library_members(self): return self.__library_members\n",
    "\n",
    "    # SETTERS:\n",
    "    def set_books_available(self, *n_books) -> None:\n",
    "        self.__books_available = n_books\n",
    "\n",
    "    def set_library_members(self, *n_members) -> None:\n",
    "        self.__library_members = n_members\n",
    "\n",
    "    # METHODS:\n",
    "    def add_book(self, n_book: Book) -> None:\n",
    "        if isinstance(n_book, Book):\n",
    "            self.__books_available.append(n_book)\n",
    "            print(f\"{n_book.get_title()} now available at the library.\")\n",
    "        else:\n",
    "            print(\"This is a library, not Amazon!\")\n",
    "\n",
    "    def add_library_member(self, member: LibraryMember) -> None:\n",
    "        if isinstance(member, LibraryMember):\n",
    "            self.__library_members.append(member)\n",
    "            print(\n",
    "                f\"Welcome, {member.get_name()} ({member.get_member_id()}).\")\n",
    "        else:\n",
    "            print(\"Sorry, we only accept humans.\")\n",
    "\n",
    "    def display_book_list(self) -> None:\n",
    "        print(\"All the books in library are:\")\n",
    "        for book in self.__books_available:\n",
    "            print(\n",
    "                f'---------------\\n{book}\\nBorrowed by: {book.get_borrower()}')\n",
    "\n",
    "    def display_library_members(self) -> None:\n",
    "        print(\"All the members in library are:\")\n",
    "        for member in self.__library_members:\n",
    "            print('---------------')\n",
    "            print(f'ID: {member.get_member_id()}\\nName: {member.get_name()}')"
   ]
  },
  {
   "cell_type": "markdown",
   "metadata": {},
   "source": [
    "## DRIVER CODE\n"
   ]
  },
  {
   "cell_type": "code",
   "execution_count": 2,
   "metadata": {},
   "outputs": [],
   "source": [
    "# Creating some books\n",
    "book1 = Book(\"The Great Gatsby\", \"F. Scott Fitzgerald\", \"Classic\")\n",
    "book2 = Book(\"To Kill a Mockingbird\", \"Harper Lee\", \"Classic\")\n",
    "book3 = Book(\"1984\", \"George Orwell\", \"Science Fiction\")"
   ]
  },
  {
   "cell_type": "code",
   "execution_count": 3,
   "metadata": {},
   "outputs": [],
   "source": [
    "# Creating library members\n",
    "member1 = LibraryMember(\"M001\", \"Alice\")\n",
    "member2 = LibraryMember(\"M002\", \"Bob\")"
   ]
  },
  {
   "cell_type": "code",
   "execution_count": 4,
   "metadata": {},
   "outputs": [],
   "source": [
    "# Creating a library\n",
    "library = Library()"
   ]
  },
  {
   "cell_type": "code",
   "execution_count": 5,
   "metadata": {},
   "outputs": [
    {
     "name": "stdout",
     "output_type": "stream",
     "text": [
      "The Great Gatsby now available at the library.\n",
      "To Kill a Mockingbird now available at the library.\n",
      "1984 now available at the library.\n",
      "--------------------------------------------------\n",
      "This is a library, not Amazon!\n",
      "--------------------------------------------------\n",
      "Welcome, Alice (M001).\n",
      "Welcome, Bob (M002).\n",
      "--------------------------------------------------\n",
      "Sorry, we only accept humans.\n"
     ]
    }
   ],
   "source": [
    "# Adding books to the library\n",
    "library.add_book(book1)\n",
    "library.add_book(book2)\n",
    "library.add_book(book3)\n",
    "print('-'*50)\n",
    "# Add a book that is not an instance of the Book class\n",
    "library.add_book('Alexa')\n",
    "print('-'*50)\n",
    "\n",
    "# Adding members to the library\n",
    "library.add_library_member(member1)\n",
    "library.add_library_member(member2)\n",
    "print('-'*50)\n",
    "# Add a member that is not an instance of the LibraryMember class\n",
    "library.add_library_member('Alien')"
   ]
  },
  {
   "cell_type": "code",
   "execution_count": 6,
   "metadata": {},
   "outputs": [
    {
     "name": "stdout",
     "output_type": "stream",
     "text": [
      "---------------1---------------\n",
      "All the books in library are:\n",
      "---------------\n",
      "Title: The Great Gatsby\n",
      "Author: F. Scott Fitzgerald\n",
      "Genre: Classic\n",
      "Available: True\n",
      "Borrowed by: None\n",
      "---------------\n",
      "Title: To Kill a Mockingbird\n",
      "Author: Harper Lee\n",
      "Genre: Classic\n",
      "Available: True\n",
      "Borrowed by: None\n",
      "---------------\n",
      "Title: 1984\n",
      "Author: George Orwell\n",
      "Genre: Science Fiction\n",
      "Available: True\n",
      "Borrowed by: None\n"
     ]
    }
   ],
   "source": [
    "# Displaying the list of books in the library\n",
    "print('---------------1---------------')\n",
    "library.display_book_list()"
   ]
  },
  {
   "cell_type": "code",
   "execution_count": 7,
   "metadata": {},
   "outputs": [
    {
     "name": "stdout",
     "output_type": "stream",
     "text": [
      "---------------2---------------\n",
      "All the members in library are:\n",
      "---------------\n",
      "ID: M001\n",
      "Name: Alice\n",
      "---------------\n",
      "ID: M002\n",
      "Name: Bob\n"
     ]
    }
   ],
   "source": [
    "# Displaying the list of library members\n",
    "print('---------------2---------------')\n",
    "library.display_library_members()"
   ]
  },
  {
   "cell_type": "code",
   "execution_count": 8,
   "metadata": {},
   "outputs": [
    {
     "name": "stdout",
     "output_type": "stream",
     "text": [
      "---------------3---------------\n",
      "Alice borrows 'The Great Gatsby'.\n",
      "All the books in library are:\n",
      "---------------\n",
      "Title: The Great Gatsby\n",
      "Author: F. Scott Fitzgerald\n",
      "Genre: Classic\n",
      "Available: False\n",
      "Borrowed by: Alice\n",
      "---------------\n",
      "Title: To Kill a Mockingbird\n",
      "Author: Harper Lee\n",
      "Genre: Classic\n",
      "Available: True\n",
      "Borrowed by: None\n",
      "---------------\n",
      "Title: 1984\n",
      "Author: George Orwell\n",
      "Genre: Science Fiction\n",
      "Available: True\n",
      "Borrowed by: None\n"
     ]
    }
   ],
   "source": [
    "# Member1 borrows a book\n",
    "print('---------------3---------------')\n",
    "member1.borrow_book(book1)\n",
    "print(f\"{member1.get_name()} borrows 'The Great Gatsby'.\")\n",
    "library.display_book_list()  # Show updated book list"
   ]
  },
  {
   "cell_type": "code",
   "execution_count": 9,
   "metadata": {},
   "outputs": [
    {
     "name": "stdout",
     "output_type": "stream",
     "text": [
      "---------------4---------------\n",
      "Bob attempts to borrow 'The Great Gatsby'.\n",
      "Alice has this book. You can't borrow it!\n"
     ]
    }
   ],
   "source": [
    "# Member2 tries to borrow the same book (already borrowed)\n",
    "print('---------------4---------------')\n",
    "print(f\"{member2.get_name()} attempts to borrow 'The Great Gatsby'.\")\n",
    "member2.borrow_book(book1)"
   ]
  },
  {
   "cell_type": "code",
   "execution_count": 10,
   "metadata": {},
   "outputs": [
    {
     "name": "stdout",
     "output_type": "stream",
     "text": [
      "---------------5---------------\n",
      "Alice returns 'The Great Gatsby'.\n",
      "All the books in library are:\n",
      "---------------\n",
      "Title: The Great Gatsby\n",
      "Author: F. Scott Fitzgerald\n",
      "Genre: Classic\n",
      "Available: True\n",
      "Borrowed by: None\n",
      "---------------\n",
      "Title: To Kill a Mockingbird\n",
      "Author: Harper Lee\n",
      "Genre: Classic\n",
      "Available: True\n",
      "Borrowed by: None\n",
      "---------------\n",
      "Title: 1984\n",
      "Author: George Orwell\n",
      "Genre: Science Fiction\n",
      "Available: True\n",
      "Borrowed by: None\n"
     ]
    }
   ],
   "source": [
    "# Member1 returns the book\n",
    "print('---------------5---------------')\n",
    "member1.return_book(book1)\n",
    "print(f\"{member1.get_name()} returns 'The Great Gatsby'.\")\n",
    "library.display_book_list()  # Show updated book list"
   ]
  },
  {
   "cell_type": "code",
   "execution_count": 11,
   "metadata": {},
   "outputs": [
    {
     "name": "stdout",
     "output_type": "stream",
     "text": [
      "---------------6---------------\n",
      "Bob borrows 'The Great Gatsby'.\n",
      "All the books in library are:\n",
      "---------------\n",
      "Title: The Great Gatsby\n",
      "Author: F. Scott Fitzgerald\n",
      "Genre: Classic\n",
      "Available: False\n",
      "Borrowed by: Bob\n",
      "---------------\n",
      "Title: To Kill a Mockingbird\n",
      "Author: Harper Lee\n",
      "Genre: Classic\n",
      "Available: True\n",
      "Borrowed by: None\n",
      "---------------\n",
      "Title: 1984\n",
      "Author: George Orwell\n",
      "Genre: Science Fiction\n",
      "Available: True\n",
      "Borrowed by: None\n"
     ]
    }
   ],
   "source": [
    "# Member2 borrows the book now\n",
    "print('---------------6---------------')\n",
    "member2.borrow_book(book1)\n",
    "print(f\"{member2.get_name()} borrows 'The Great Gatsby'.\")\n",
    "library.display_book_list()  # Show updated book list"
   ]
  },
  {
   "cell_type": "code",
   "execution_count": 12,
   "metadata": {},
   "outputs": [
    {
     "name": "stdout",
     "output_type": "stream",
     "text": [
      "---------------7---------------\n",
      "Alice's borrowed books:\n",
      "All this code just to tell you that you have no books.\n"
     ]
    }
   ],
   "source": [
    "# Displaying the borrowed books of each member\n",
    "print('---------------7---------------')\n",
    "print(f\"{member1.get_name()}'s borrowed books:\")\n",
    "member1.display_borrowed_books()"
   ]
  },
  {
   "cell_type": "code",
   "execution_count": 13,
   "metadata": {},
   "outputs": [
    {
     "name": "stdout",
     "output_type": "stream",
     "text": [
      "---------------8---------------\n",
      "Bob's borrowed books:\n",
      "Borrowed Books:\n",
      "---------------\n",
      "Title: The Great Gatsby\n",
      "Author: F. Scott Fitzgerald\n",
      "Genre: Classic\n",
      "Available: False\n"
     ]
    }
   ],
   "source": [
    "print('---------------8---------------')\n",
    "print(f\"{member2.get_name()}'s borrowed books:\")\n",
    "member2.display_borrowed_books()"
   ]
  },
  {
   "cell_type": "code",
   "execution_count": 14,
   "metadata": {},
   "outputs": [
    {
     "name": "stdout",
     "output_type": "stream",
     "text": [
      "---------------9---------------\n",
      "Modifying book details:\n",
      "Title: To Kill a Mockingbird\n",
      "Author: New Author\n",
      "Genre: Mystery\n",
      "Available: True\n"
     ]
    }
   ],
   "source": [
    "# Modifying book details\n",
    "print('---------------9---------------')\n",
    "print(\"Modifying book details:\")\n",
    "book2.set_author(\"New Author\")\n",
    "book2.set_genre(\"Mystery\")\n",
    "print(book2)"
   ]
  },
  {
   "cell_type": "code",
   "execution_count": 15,
   "metadata": {},
   "outputs": [
    {
     "name": "stdout",
     "output_type": "stream",
     "text": [
      "---------------10---------------\n",
      "Modifying member details:\n",
      "Alicia\n"
     ]
    }
   ],
   "source": [
    "# Modifying member details\n",
    "print('---------------10---------------')\n",
    "print(\"Modifying member details:\")\n",
    "member1.set_name(\"Alicia\")\n",
    "print(member1)"
   ]
  }
 ],
 "metadata": {
  "kernelspec": {
   "display_name": "Python 3",
   "language": "python",
   "name": "python3"
  },
  "language_info": {
   "codemirror_mode": {
    "name": "ipython",
    "version": 3
   },
   "file_extension": ".py",
   "mimetype": "text/x-python",
   "name": "python",
   "nbconvert_exporter": "python",
   "pygments_lexer": "ipython3",
   "version": "3.10.8"
  },
  "orig_nbformat": 4
 },
 "nbformat": 4,
 "nbformat_minor": 2
}
