{
 "cells": [
  {
   "cell_type": "code",
   "execution_count": 1,
   "metadata": {},
   "outputs": [
    {
     "name": "stderr",
     "output_type": "stream",
     "text": [
      "d:\\Workspace\\BracU\\LAB\\.venv\\Lib\\site-packages\\fuzzywuzzy\\fuzz.py:11: UserWarning: Using slow pure-python SequenceMatcher. Install python-Levenshtein to remove this warning\n",
      "  warnings.warn('Using slow pure-python SequenceMatcher. Install python-Levenshtein to remove this warning')\n"
     ]
    }
   ],
   "source": [
    "import numpy as np\n",
    "import fhm_unittest as ut"
   ]
  },
  {
   "cell_type": "code",
   "execution_count": 2,
   "metadata": {},
   "outputs": [
    {
     "name": "stdout",
     "output_type": "stream",
     "text": [
      "///  Test 01: Arithmetic Mean  ///\n",
      "Task 01: 10.181818181818182\n",
      "Accepted\n"
     ]
    }
   ],
   "source": [
    "# Task 01 - Arithmetic Mean\n",
    "def getMean(arr):\n",
    "    sum = 0\n",
    "    for i in arr:\n",
    "        sum += i\n",
    "    return sum / len(arr)\n",
    "\n",
    "\n",
    "print(\"///  Test 01: Arithmetic Mean  ///\")\n",
    "arr = np.array([10, 8, 13, 9, 14, 25, -5, 20, 7, 7, 4])\n",
    "returnValue = getMean(arr)\n",
    "# This should print 3.0\n",
    "print(f\"Task 01: {returnValue}\")\n",
    "ut.output_test(returnValue, 10.181818181818182)"
   ]
  },
  {
   "cell_type": "code",
   "execution_count": 3,
   "metadata": {},
   "outputs": [
    {
     "name": "stdout",
     "output_type": "stream",
     "text": [
      "///  Test 02: Standard Deviation  ///\n",
      "Task 02: 7.960127911260996\n",
      "Accepted\n"
     ]
    }
   ],
   "source": [
    "# Task 02 - Standard Deviation\n",
    "def getStandardDeviation(arr):\n",
    "    mean = getMean(arr)\n",
    "    sum = 0\n",
    "    for i in arr:\n",
    "        sum += (i - mean) ** 2\n",
    "    return (sum / (len(arr) - 1)) ** 0.5\n",
    "\n",
    "\n",
    "print(\"///  Test 02: Standard Deviation  ///\")\n",
    "arr = np.array([10, 8, 13, 9, 14, 25, -5, 20, 7, 7, 4])\n",
    "returnValue = getStandardDeviation(arr)\n",
    "# This should print 7.96\n",
    "print(f\"Task 02: {returnValue}\")\n",
    "ut.output_test(returnValue, 7.960127911260996)"
   ]
  },
  {
   "cell_type": "code",
   "execution_count": 7,
   "metadata": {},
   "outputs": [
    {
     "name": "stdout",
     "output_type": "stream",
     "text": [
      "///  Test 03: Detect Outliers  ///\n",
      "Task 03: [25 -5]\n",
      "Accepted\n"
     ]
    }
   ],
   "source": [
    "# Task 03 - Detect Outliers\n",
    "def detectOutliers(arr):\n",
    "    n = len(arr)\n",
    "    mean = getMean(arr)\n",
    "    std = getStandardDeviation(arr)\n",
    "    threshold = 1.5 * std\n",
    "\n",
    "    upper = mean + threshold\n",
    "    lower = mean - threshold\n",
    "\n",
    "    outliersCount = 0\n",
    "    outliersIndexArray = np.zeros(n, dtype=int)\n",
    "\n",
    "    for i in range(n):\n",
    "        if arr[i] >= upper or arr[i] <= lower:\n",
    "            outliersCount += 1\n",
    "            outliersIndexArray[i] = 1\n",
    "\n",
    "    resultArr = np.zeros(outliersCount, dtype=int)\n",
    "    resultIndexCount = 0\n",
    "\n",
    "    for i in range(n):\n",
    "        if outliersIndexArray[i] == 1:\n",
    "            resultArr[resultIndexCount] = arr[i]\n",
    "            resultIndexCount += 1\n",
    "    return resultArr\n",
    "\n",
    "\n",
    "print(\"///  Test 03: Detect Outliers  ///\")\n",
    "arr = np.array([10, 8, 13, 9, 14, 25, -5, 20, 7, 7, 4])\n",
    "returnValue = detectOutliers(arr)\n",
    "# This should print [25, -5]\n",
    "print(f\"Task 03: {returnValue}\")\n",
    "ut.output_test(returnValue, np.array([25, -5]))"
   ]
  },
  {
   "cell_type": "code",
   "execution_count": 8,
   "metadata": {},
   "outputs": [],
   "source": [
    "new_arr = np.zeros((100, 100), dtype=int)"
   ]
  },
  {
   "cell_type": "code",
   "execution_count": 11,
   "metadata": {},
   "outputs": [
    {
     "name": "stdout",
     "output_type": "stream",
     "text": [
      "(100, 100)\n"
     ]
    }
   ],
   "source": [
    "print(new_arr.shape)"
   ]
  }
 ],
 "metadata": {
  "kernelspec": {
   "display_name": ".venv",
   "language": "python",
   "name": "python3"
  },
  "language_info": {
   "codemirror_mode": {
    "name": "ipython",
    "version": 3
   },
   "file_extension": ".py",
   "mimetype": "text/x-python",
   "name": "python",
   "nbconvert_exporter": "python",
   "pygments_lexer": "ipython3",
   "version": "3.11.4"
  },
  "orig_nbformat": 4
 },
 "nbformat": 4,
 "nbformat_minor": 2
}
